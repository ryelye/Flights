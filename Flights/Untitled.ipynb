{
 "cells": [
  {
   "cell_type": "code",
   "execution_count": 94,
   "metadata": {
    "collapsed": false
   },
   "outputs": [],
   "source": [
    "import pandas as pd\n",
    "import os\n",
    "from datetime import datetime\n",
    "from datetime import timedelta\n",
    "os.chdir('C:/Users/HF_BI/Documents/Flights/Output')"
   ]
  },
  {
   "cell_type": "code",
   "execution_count": 115,
   "metadata": {
    "collapsed": true
   },
   "outputs": [],
   "source": [
    "df = pd.read_csv('Input.csv')"
   ]
  },
  {
   "cell_type": "code",
   "execution_count": 116,
   "metadata": {
    "collapsed": true
   },
   "outputs": [],
   "source": [
    "oneWay = []\n",
    "for bl in df.one_way:\n",
    "    if bl==True:\n",
    "        oneWay.append('tt=o')\n",
    "    else:\n",
    "        oneWay.append('')"
   ]
  },
  {
   "cell_type": "code",
   "execution_count": 117,
   "metadata": {
    "collapsed": false
   },
   "outputs": [
    {
     "data": {
      "text/html": [
       "<div>\n",
       "<table border=\"1\" class=\"dataframe\">\n",
       "  <thead>\n",
       "    <tr style=\"text-align: right;\">\n",
       "      <th></th>\n",
       "      <th>from_airport</th>\n",
       "      <th>to_airports</th>\n",
       "      <th>from_date_start</th>\n",
       "      <th>from_date_end</th>\n",
       "      <th>min_duration</th>\n",
       "      <th>max_duration</th>\n",
       "      <th>max_price</th>\n",
       "      <th>one_way</th>\n",
       "    </tr>\n",
       "  </thead>\n",
       "  <tbody>\n",
       "    <tr>\n",
       "      <th>0</th>\n",
       "      <td>SYD</td>\n",
       "      <td>PEK, SHA, PVG</td>\n",
       "      <td>15/01/2017</td>\n",
       "      <td>15/02/2017</td>\n",
       "      <td>20</td>\n",
       "      <td>30</td>\n",
       "      <td>500</td>\n",
       "      <td>False</td>\n",
       "    </tr>\n",
       "  </tbody>\n",
       "</table>\n",
       "</div>"
      ],
      "text/plain": [
       "  from_airport    to_airports from_date_start from_date_end  min_duration  \\\n",
       "0          SYD  PEK, SHA, PVG      15/01/2017    15/02/2017            20   \n",
       "\n",
       "   max_duration  max_price one_way  \n",
       "0            30        500   False  "
      ]
     },
     "execution_count": 117,
     "metadata": {},
     "output_type": "execute_result"
    }
   ],
   "source": [
    "df"
   ]
  },
  {
   "cell_type": "code",
   "execution_count": 152,
   "metadata": {
    "collapsed": false
   },
   "outputs": [],
   "source": [
    "to_airports = list(df.to_airports)"
   ]
  },
  {
   "cell_type": "code",
   "execution_count": 153,
   "metadata": {
    "collapsed": false
   },
   "outputs": [
    {
     "data": {
      "text/plain": [
       "['PEK, SHA, PVG']"
      ]
     },
     "execution_count": 153,
     "metadata": {},
     "output_type": "execute_result"
    }
   ],
   "source": [
    "to_airports"
   ]
  },
  {
   "cell_type": "code",
   "execution_count": 119,
   "metadata": {
    "collapsed": false
   },
   "outputs": [
    {
     "data": {
      "text/plain": [
       "['PEK', 'SHA', 'PVG']"
      ]
     },
     "execution_count": 119,
     "metadata": {},
     "output_type": "execute_result"
    }
   ],
   "source": [
    "[x.strip() for x in df.to_airports[0].split(',')]"
   ]
  },
  {
   "cell_type": "code",
   "execution_count": 120,
   "metadata": {
    "collapsed": false
   },
   "outputs": [],
   "source": [
    "def cleanToAirport(dfField):\n",
    "    toAirportCleaned = []\n",
    "    for item in dfField:\n",
    "        new_air = item.split(',')\n",
    "        output = []\n",
    "        for value in new_air:\n",
    "            output.append(value.strip())\n",
    "        toAirportCleaned.append(output)\n",
    "\n",
    "    return toAirportCleaned\n",
    "\n",
    "def cleanDate(dfField):\n",
    "    cleanedDates = []\n",
    "    for item in dfField:\n",
    "        cleanedDates.append(datetime.strptime(item,'%d/%m/%Y').strftime('%Y-%m-%d'))\n",
    "    return cleanedDates\n",
    "\n",
    "fromAirport = list(df.from_airport)\n",
    "toAirport = cleanToAirport(df.to_airports)\n",
    "fromDateStart = cleanDate(df.from_date_start)\n",
    "fromDateEnd = cleanDate(df.from_date_end)\n",
    "duration = list(df.min_duration)\n",
    "maxPrice = df.max_price\n",
    "oneWay = list(df.one_way)"
   ]
  },
  {
   "cell_type": "code",
   "execution_count": 130,
   "metadata": {
    "collapsed": false
   },
   "outputs": [
    {
     "data": {
      "text/plain": [
       "['2017-01-15']"
      ]
     },
     "execution_count": 130,
     "metadata": {},
     "output_type": "execute_result"
    }
   ],
   "source": [
    "fromDateStart"
   ]
  },
  {
   "cell_type": "code",
   "execution_count": 136,
   "metadata": {
    "collapsed": false
   },
   "outputs": [],
   "source": [
    "toDateStart = datetime.strptime(fromDateStart[0],'%Y-%m-%d') + timedelta(days=int(duration[0]))"
   ]
  },
  {
   "cell_type": "code",
   "execution_count": 143,
   "metadata": {
    "collapsed": true
   },
   "outputs": [],
   "source": [
    "import time"
   ]
  },
  {
   "cell_type": "code",
   "execution_count": 150,
   "metadata": {
    "collapsed": false
   },
   "outputs": [
    {
     "data": {
      "text/plain": [
       "'20170115-173934'"
      ]
     },
     "execution_count": 150,
     "metadata": {},
     "output_type": "execute_result"
    }
   ],
   "source": [
    "time.strftime(\"%Y%m%d-%H%M%S\")"
   ]
  },
  {
   "cell_type": "code",
   "execution_count": 124,
   "metadata": {
    "collapsed": false
   },
   "outputs": [
    {
     "data": {
      "text/plain": [
       "['PEK', 'SHA', 'PVG']"
      ]
     },
     "execution_count": 124,
     "metadata": {},
     "output_type": "execute_result"
    }
   ],
   "source": [
    "toAirport[0]"
   ]
  },
  {
   "cell_type": "code",
   "execution_count": 123,
   "metadata": {
    "collapsed": false
   },
   "outputs": [
    {
     "name": "stdout",
     "output_type": "stream",
     "text": [
      "PEK\n",
      "SHA\n",
      "PVG\n"
     ]
    }
   ],
   "source": [
    "for i in toAirport:\n",
    "    for item in i:\n",
    "        print(item)"
   ]
  }
 ],
 "metadata": {
  "anaconda-cloud": {},
  "kernelspec": {
   "display_name": "Python [Root]",
   "language": "python",
   "name": "Python [Root]"
  },
  "language_info": {
   "codemirror_mode": {
    "name": "ipython",
    "version": 3
   },
   "file_extension": ".py",
   "mimetype": "text/x-python",
   "name": "python",
   "nbconvert_exporter": "python",
   "pygments_lexer": "ipython3",
   "version": "3.5.2"
  }
 },
 "nbformat": 4,
 "nbformat_minor": 0
}
